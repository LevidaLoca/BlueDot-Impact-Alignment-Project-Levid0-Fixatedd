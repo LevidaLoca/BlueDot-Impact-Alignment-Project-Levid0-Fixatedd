{
 "cells": [
  {
   "cell_type": "code",
   "execution_count": null,
   "metadata": {},
   "outputs": [],
   "source": []
  },
  {
   "cell_type": "code",
   "execution_count": 1,
   "metadata": {},
   "outputs": [
    {
     "name": "stderr",
     "output_type": "stream",
     "text": [
      "/home/l/projects/AISF/BlueDot-Impact-Alignment-Project-Zachary-Levin/venv/lib/python3.12/site-packages/tqdm/auto.py:21: TqdmWarning: IProgress not found. Please update jupyter and ipywidgets. See https://ipywidgets.readthedocs.io/en/stable/user_install.html\n",
      "  from .autonotebook import tqdm as notebook_tqdm\n"
     ]
    }
   ],
   "source": [
    "import numpy as np\n",
    "from dotenv import load_dotenv\n",
    "from src.chatroom_manager import ChatroomManager\n",
    "from src.bot_handler import initialize_bots\n",
    "from src.distillation import generate_text_report\n",
    "from src.load_questions import TruthfulQADataLoader\n",
    "import yaml\n",
    "import os\n",
    "from pathlib import Path\n",
    "from box import Box\n",
    "import datetime\n",
    "import json\n",
    "\n",
    "def load_config(config_path=None):\n",
    "    if config_path is None:\n",
    "        config_path = Path(__file__).parent.parent / 'config' / 'config.yaml'\n",
    "    with open(config_path, 'r') as f:\n",
    "        return Box(yaml.safe_load(f))\n",
    "\n",
    "def main_chat():\n",
    "    load_dotenv()\n",
    "    config = load_config()\n",
    "    print(\"Loading configuration...\")\n",
    "    \n",
    "    # Initialize bots and split into groups\n",
    "    all_bots = initialize_bots(config.num_bots, config.misaligned_count, \n",
    "                             config.undermine_info, config.discussion_topic)\n",
    "    aligned = [b.id for b in all_bots if not b.misaligned]\n",
    "    misaligned = [b.id for b in all_bots if b.misaligned]\n",
    "    \n",
    "    # Start chat simulation\n",
    "    manager = ChatroomManager(\n",
    "        bots=all_bots,\n",
    "        config=config,\n",
    "        aligned_ids=aligned,\n",
    "        misaligned_ids=misaligned\n",
    "    )\n",
    "    chat_history = manager.run_conversation()\n",
    "    \n",
    "    # Generate final output\n",
    "    output_path = Path(__file__).parent.parent / 'outputs' / 'chat_logs' /  f\"{datetime.datetime.now().strftime('%Y%m%d_%H%M%S')}.txt\"\n",
    "    generate_text_report(chat_history, aligned, misaligned, \n",
    "                       config.undermine_info, output_path)\n",
    "\n",
    "def load_files(questions_fp):\n",
    "    # main_chat()#\n",
    "    loader = TruthfulQADataLoader()  # Create an instance\n",
    "    loader.load_data_from_huggingface()  #\n",
    "\n",
    "    # questions_data = loader.load_questions()\n",
    "\n",
    "    print(loader.questions[0])\n",
    "\n",
    "    loader.save_to_json(questions_fp)\n",
    "    return loader.questions\n",
    "\n",
    "def load_q_from_file(questions_fp):\n",
    "    loader = TruthfulQADataLoader()\n",
    "\n",
    "    questions = TruthfulQADataLoader.load_from_json(questions_fp)\n",
    "\n",
    "    return questions\n",
    "\n",
    "\n",
    "    "
   ]
  },
  {
   "cell_type": "code",
   "execution_count": 2,
   "metadata": {},
   "outputs": [
    {
     "name": "stdout",
     "output_type": "stream",
     "text": [
      "Successfully loaded 817 questions from './truthQAMCQ/truthful_qa_with_incorrect_answers.json'\n"
     ]
    },
    {
     "ename": "AttributeError",
     "evalue": "type object 'TruthfulQADataLoader' has no attribute 'questions'",
     "output_type": "error",
     "traceback": [
      "\u001b[0;31m---------------------------------------------------------------------------\u001b[0m",
      "\u001b[0;31mAttributeError\u001b[0m                            Traceback (most recent call last)",
      "Cell \u001b[0;32mIn[2], line 8\u001b[0m\n\u001b[1;32m      4\u001b[0m mcq_filepath \u001b[38;5;241m=\u001b[39m \u001b[38;5;124mf\u001b[39m\u001b[38;5;124m\"\u001b[39m\u001b[38;5;132;01m{\u001b[39;00mmcq_dir\u001b[38;5;132;01m}\u001b[39;00m\u001b[38;5;124m/truthful_qa_with_incorrect_answers.json\u001b[39m\u001b[38;5;124m\"\u001b[39m\n\u001b[1;32m      6\u001b[0m load_q_from_file(mcq_filepath) \u001b[38;5;28;01mif\u001b[39;00m os\u001b[38;5;241m.\u001b[39mpath\u001b[38;5;241m.\u001b[39misfile(mcq_filepath) \u001b[38;5;28;01melse\u001b[39;00m load_files()\n\u001b[0;32m----> 8\u001b[0m questions \u001b[38;5;241m=\u001b[39m \u001b[43mloader\u001b[49m\u001b[38;5;241;43m.\u001b[39;49m\u001b[43mquestions\u001b[49m\n\u001b[1;32m     10\u001b[0m \u001b[38;5;28mprint\u001b[39m(json\u001b[38;5;241m.\u001b[39mdumps(questions[\u001b[38;5;241m0\u001b[39m], indent\u001b[38;5;241m=\u001b[39m\u001b[38;5;241m4\u001b[39m, ensure_ascii\u001b[38;5;241m=\u001b[39m\u001b[38;5;28;01mFalse\u001b[39;00m))\n",
      "\u001b[0;31mAttributeError\u001b[0m: type object 'TruthfulQADataLoader' has no attribute 'questions'"
     ]
    }
   ],
   "source": [
    "loader = TruthfulQADataLoader\n",
    "\n",
    "mcq_dir = \"./truthQAMCQ\"\n",
    "mcq_filepath = f\"{mcq_dir}/truthful_qa_with_incorrect_answers.json\"\n",
    "\n",
    "questions = load_q_from_file(mcq_filepath) if os.path.isfile(mcq_filepath) else load_files()\n",
    "\n",
    "\n",
    "\n",
    "print(json.dumps(questions[0], indent=4, ensure_ascii=False))"
   ]
  }
 ],
 "metadata": {
  "kernelspec": {
   "display_name": "venv",
   "language": "python",
   "name": "python3"
  },
  "language_info": {
   "codemirror_mode": {
    "name": "ipython",
    "version": 3
   },
   "file_extension": ".py",
   "mimetype": "text/x-python",
   "name": "python",
   "nbconvert_exporter": "python",
   "pygments_lexer": "ipython3",
   "version": "3.12.7"
  }
 },
 "nbformat": 4,
 "nbformat_minor": 2
}
